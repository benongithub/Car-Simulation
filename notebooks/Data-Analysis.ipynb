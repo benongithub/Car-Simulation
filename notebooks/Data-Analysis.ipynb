{
 "cells": [
  {
   "cell_type": "code",
   "execution_count": 1,
   "metadata": {
    "collapsed": true,
    "pycharm": {
     "is_executing": false
    }
   },
   "outputs": [],
   "source": [
    "import pandas as pd"
   ]
  },
  {
   "cell_type": "code",
   "execution_count": 3,
   "metadata": {
    "pycharm": {
     "is_executing": false,
     "name": "#%%\n"
    }
   },
   "outputs": [],
   "source": [
    "df = pd.read_csv('../data/sim_data_1560945591.1975613.csv', \n",
    "            header=0, \n",
    "            names=['Time', 'xPos', 'yPos'])"
   ]
  },
  {
   "cell_type": "code",
   "execution_count": 4,
   "metadata": {
    "pycharm": {
     "is_executing": false,
     "name": "#%%\n"
    }
   },
   "outputs": [
    {
     "name": "stdout",
     "output_type": "stream",
     "text": [
      "        Time  xPos  yPos\n",
      "0   0.016144     0     0\n",
      "1   0.031641     0     0\n",
      "2   0.052037     0     0\n",
      "3   0.067548     0     0\n",
      "4   0.083741     0     0\n",
      "5   0.099897     0     0\n",
      "6   0.116334     0     0\n",
      "7   0.131974     0     0\n",
      "8   0.148137     0     0\n",
      "9   0.164483     0     0\n",
      "10  0.180791     0     0\n",
      "11  0.197088     0     0\n",
      "12  0.213327     0     0\n",
      "13  0.229279     0     0\n",
      "14  0.259836     0     0\n",
      "15  0.276462     0     0\n",
      "16  0.292764     0     0\n",
      "17  0.309046     0     0\n",
      "18  0.324570     0     0\n",
      "19  0.340992     0     0\n",
      "20  0.356950     0     0\n",
      "21  0.372851     0     0\n",
      "22  0.388916     0     0\n",
      "23  0.405349     0     0\n",
      "24  0.420450     0     0\n",
      "25  0.436684     0     0\n",
      "26  0.452851     0     0\n",
      "27  0.469378     0     0\n",
      "28  0.484940     0     0\n",
      "29  0.501494     0     0\n",
      "..       ...   ...   ...\n",
      "68  1.129441     0     0\n",
      "69  1.145788     0     0\n",
      "70  1.162356     0     0\n",
      "71  1.177762     0     0\n",
      "72  1.194097     0     0\n",
      "73  1.209535     0     0\n",
      "74  1.226189     0     0\n",
      "75  1.241851     0     0\n",
      "76  1.258403     0     0\n",
      "77  1.274955     0     0\n",
      "78  1.291221     0     0\n",
      "79  1.307256     0     0\n",
      "80  1.323004     0     0\n",
      "81  1.339113     0     0\n",
      "82  1.355297     0     0\n",
      "83  1.371347     0     0\n",
      "84  1.386954     0     0\n",
      "85  1.402521     0     0\n",
      "86  1.419155     0     0\n",
      "87  1.434735     0     0\n",
      "88  1.451396     0     0\n",
      "89  1.468024     0     0\n",
      "90  1.483653     0     0\n",
      "91  1.500232     0     0\n",
      "92  1.516048     0     0\n",
      "93  1.531565     0     0\n",
      "94  1.548151     0     0\n",
      "95  1.563795     0     0\n",
      "96  1.580331     0     0\n",
      "97  1.596347     0     0\n",
      "\n",
      "[98 rows x 3 columns]\n"
     ]
    }
   ],
   "source": [
    "print(df)"
   ]
  },
  {
   "cell_type": "code",
   "execution_count": 5,
   "metadata": {
    "pycharm": {
     "is_executing": false,
     "name": "#%%\n"
    }
   },
   "outputs": [],
   "source": [
    "%matplotlib inline\n",
    "import numpy as np\n",
    "import matplotlib.pyplot as plt"
   ]
  },
  {
   "cell_type": "code",
   "execution_count": 19,
   "metadata": {
    "pycharm": {
     "is_executing": false,
     "name": "#%%\n"
    }
   },
   "outputs": [],
   "source": [
    "t = np.ndarray(df.iloc[:,0:1].values)\n",
    "x = np.ndarray(df.iloc[:,1:2].values)\n",
    "y = np.ndarray(df.iloc[:,2,3].values)"
   ]
  },
  {
   "cell_type": "code",
   "execution_count": 24,
   "metadata": {
    "pycharm": {
     "is_executing": false,
     "name": "#%%\n"
    }
   },
   "outputs": [
    {
     "data": {
      "image/png": "[encoded data removed]",
      "text/plain": [
       "<Figure size 432x288 with 1 Axes>"
      ]
     },
     "metadata": {
      "needs_background": "light"
     },
     "output_type": "display_data"
    }
   ],
   "source": [
    "plt.figure()\n",
    "plt.plot(t,x)\n",
    "plt.show()"
   ]
  },
  {
   "cell_type": "code",
   "execution_count": null,
   "metadata": {
    "pycharm": {
     "name": "#%%\n"
    }
   },
   "outputs": [],
   "source": [
    "\n"
   ]
  }
 ],
 "metadata": {
  "kernelspec": {
   "display_name": "Python 3",
   "language": "python",
   "name": "python3"
  },
  "language_info": {
   "codemirror_mode": {
    "name": "ipython",
    "version": 3
   },
   "file_extension": ".py",
   "mimetype": "text/x-python",
   "name": "python",
   "nbconvert_exporter": "python",
   "pygments_lexer": "ipython3",
   "version": "3.7.3"
  },
  "pycharm": {
   "stem_cell": {
    "cell_type": "raw",
    "metadata": {
     "collapsed": false
    },
    "source": []
   }
  }
 },
 "nbformat": 4,
 "nbformat_minor": 1
}
